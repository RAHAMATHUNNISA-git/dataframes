{
 "cells": [
  {
   "cell_type": "code",
   "execution_count": 24,
   "id": "bbbd5486-6069-45a2-b7b1-ff5e29a9a203",
   "metadata": {},
   "outputs": [],
   "source": [
    "import pandas as pd"
   ]
  },
  {
   "cell_type": "code",
   "execution_count": 25,
   "id": "264b2200-1e51-4501-b0fa-503f1caa1211",
   "metadata": {},
   "outputs": [],
   "source": [
    "import pandas as pd\n",
    "import smtplib\n",
    "from email.mime.multipart import MIMEMultipart\n",
    "from email.mime.text import MIMEText\n",
    "from email.mime.base import MIMEBase\n",
    "from email import encoders"
   ]
  },
  {
   "cell_type": "code",
   "execution_count": 26,
   "id": "85125d35-4f43-46c8-bd24-11f1dc191695",
   "metadata": {},
   "outputs": [],
   "source": [
    "# Sample DataFrames\n",
    "df1 = pd.DataFrame({'EmployeeID': [101, 102, 103], \n",
    "                   'Name': ['Alice', 'Bob', 'Charlie'],\n",
    "                   'Department': ['HR', 'IT', 'Finance']})\n",
    "\n",
    "df2 = pd.DataFrame({'ProductID': [201, 202, 203],\n",
    "                   'Product': ['Laptop', 'Mouse', 'Keyboard'],\n",
    "                   'Price': [1200, 25, 45]})"
   ]
  },
  {
   "cell_type": "code",
   "execution_count": 27,
   "id": "8d57ca6d-2318-4428-afd9-aaa8682bbe09",
   "metadata": {},
   "outputs": [
    {
     "name": "stdout",
     "output_type": "stream",
     "text": [
      "Excel file 'data_export.xlsx' created with two sheets.\n"
     ]
    }
   ],
   "source": [
    "# Create Excel file with two sheets\n",
    "excel_file = 'data_export.xlsx'\n",
    "with pd.ExcelWriter(excel_file) as writer:\n",
    "    df1.to_excel(writer, sheet_name='EmployeeData', index=False)\n",
    "    df2.to_excel(writer, sheet_name='ProductData', index=False)\n",
    "\n",
    "print(f\"Excel file '{excel_file}' created with two sheets.\")"
   ]
  },
  {
   "cell_type": "code",
   "execution_count": 28,
   "id": "6fbf9f64-d4e3-49ec-848c-cca9612b333f",
   "metadata": {},
   "outputs": [],
   "source": [
    "#Email configuration\n",
    "sender_email = \"rrahamathunnisa2@gmail.com\"\n",
    "receiver_email = \"mr.paramatma@gmail.com\"\n",
    "password = \"5441\"  # For Gmail, use App Password if 2FA is enabled"
   ]
  },
  {
   "cell_type": "code",
   "execution_count": 29,
   "id": "64977845-4be6-4c1a-8ee6-be4df31f1cb5",
   "metadata": {},
   "outputs": [],
   "source": [
    "# Create email\n",
    "msg = MIMEMultipart()\n",
    "msg['From'] = sender_email\n",
    "msg['To'] = receiver_email\n",
    "msg['Subject'] = \"Data Export with Two Sheets\""
   ]
  },
  {
   "cell_type": "code",
   "execution_count": 30,
   "id": "60635875-4e5e-4390-a240-e6a8f2e67383",
   "metadata": {},
   "outputs": [],
   "source": [
    "# Email body\n",
    "body = \"\"\"Hello,\n",
    "\n",
    "Please find attached the Excel file containing:\n",
    "- Sheet1: Employee Data\n",
    "- Sheet2: Product Data\n",
    "\n",
    "Regards,\n",
    "Your Python Script\n",
    "\"\"\"\n",
    "msg.attach(MIMEText(body, 'plain'))"
   ]
  },
  {
   "cell_type": "code",
   "execution_count": 31,
   "id": "eefc2b99-785c-41ef-a9ca-f81b24fc8042",
   "metadata": {},
   "outputs": [],
   "source": [
    "# Attach the Excel file\n",
    "attachment = open(excel_file, \"rb\")\n",
    "part = MIMEBase('application', 'octet-stream')\n",
    "part.set_payload(attachment.read())\n",
    "encoders.encode_base64(part)\n",
    "part.add_header('Content-Disposition', f\"attachment; filename= {excel_file}\")\n",
    "msg.attach(part)\n"
   ]
  },
  {
   "cell_type": "code",
   "execution_count": 32,
   "id": "0b9eb621-b120-4258-bd31-a2c2d360f847",
   "metadata": {},
   "outputs": [
    {
     "name": "stdout",
     "output_type": "stream",
     "text": [
      "Error sending email: (535, b'5.7.8 Username and Password not accepted. For more information, go to\\n5.7.8  https://support.google.com/mail/?p=BadCredentials d2e1a72fcca58-739710acd6esm1070492b3a.145 - gsmtp')\n"
     ]
    }
   ],
   "source": [
    "# Send email\n",
    "try:\n",
    "    with smtplib.SMTP('smtp.gmail.com', 587) as server:  # For Gmail\n",
    "        server.starttls()\n",
    "        server.login(sender_email, password)\n",
    "        server.sendmail(sender_email, receiver_email, msg.as_string())\n",
    "    print(\"Email sent successfully!\")\n",
    "except Exception as e:\n",
    "    print(f\"Error sending email: {e}\")"
   ]
  },
  {
   "cell_type": "code",
   "execution_count": null,
   "id": "99927474-c210-4d7d-a825-44c0350b670a",
   "metadata": {},
   "outputs": [],
   "source": []
  }
 ],
 "metadata": {
  "kernelspec": {
   "display_name": "Python 3 (ipykernel)",
   "language": "python",
   "name": "python3"
  },
  "language_info": {
   "codemirror_mode": {
    "name": "ipython",
    "version": 3
   },
   "file_extension": ".py",
   "mimetype": "text/x-python",
   "name": "python",
   "nbconvert_exporter": "python",
   "pygments_lexer": "ipython3",
   "version": "3.11.7"
  }
 },
 "nbformat": 4,
 "nbformat_minor": 5
}
